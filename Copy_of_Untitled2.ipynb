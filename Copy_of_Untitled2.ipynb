{
  "nbformat": 4,
  "nbformat_minor": 0,
  "metadata": {
    "colab": {
      "provenance": [],
      "authorship_tag": "ABX9TyPHLdzj8jZRnj6XaGsAu54W",
      "include_colab_link": true
    },
    "kernelspec": {
      "name": "python3",
      "display_name": "Python 3"
    },
    "language_info": {
      "name": "python"
    }
  },
  "cells": [
    {
      "cell_type": "markdown",
      "metadata": {
        "id": "view-in-github",
        "colab_type": "text"
      },
      "source": [
        "<a href=\"https://colab.research.google.com/github/Shreyagajare23/Fundamental/blob/main/Copy_of_Untitled2.ipynb\" target=\"_parent\"><img src=\"https://colab.research.google.com/assets/colab-badge.svg\" alt=\"Open In Colab\"/></a>"
      ]
    },
    {
      "cell_type": "code",
      "execution_count": null,
      "metadata": {
        "id": "CXMSIqTMuYsa",
        "colab": {
          "base_uri": "https://localhost:8080/"
        },
        "outputId": "5774d2b6-06b2-431a-f15f-6c6ea22dfe73"
      },
      "outputs": [
        {
          "output_type": "stream",
          "name": "stdout",
          "text": [
            "hello shreya\n",
            "102\n",
            "37\n",
            "4\n"
          ]
        }
      ],
      "source": [
        "print(\"hello shreya\")\n",
        "print (35+67)\n",
        "print (45-8)\n",
        "print(89%5)"
      ]
    }
  ]
}