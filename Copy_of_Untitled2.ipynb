{
  "nbformat": 4,
  "nbformat_minor": 0,
  "metadata": {
    "colab": {
      "provenance": [],
      "authorship_tag": "ABX9TyOauGJ8pAq57AQ02pjM6KUZ",
      "include_colab_link": true
    },
    "kernelspec": {
      "name": "python3",
      "display_name": "Python 3"
    },
    "language_info": {
      "name": "python"
    }
  },
  "cells": [
    {
      "cell_type": "markdown",
      "metadata": {
        "id": "view-in-github",
        "colab_type": "text"
      },
      "source": [
        "<a href=\"https://colab.research.google.com/github/Shreyagajare23/Fundamental/blob/main/Copy_of_Untitled2.ipynb\" target=\"_parent\"><img src=\"https://colab.research.google.com/assets/colab-badge.svg\" alt=\"Open In Colab\"/></a>"
      ]
    },
    {
      "cell_type": "code",
      "execution_count": 37,
      "metadata": {
        "id": "CXMSIqTMuYsa",
        "colab": {
          "base_uri": "https://localhost:8080/"
        },
        "outputId": "4c63b499-11fa-4943-deca-9a79b9e51d4b"
      },
      "outputs": [
        {
          "output_type": "stream",
          "name": "stdout",
          "text": [
            "hello shreya\n",
            "102\n",
            "37\n",
            "4\n",
            "my age id 20\n",
            "shreyagajare\n",
            "15\n",
            "15\n",
            "shreya gajareshreya gajareshreya gajareshreya gajareshreya gajareshreya gajareshreya gajare\n",
            "55\n",
            "336\n",
            "56\n",
            "hello shreya 48\n",
            "hello shreyahello shreyahello shreyahello shreyahello shreyahello shreyahello shreyahello shreyahello shreyahello shreyahello shreyahello shreyahello shreyahello shreyahello shreyahello shreyahello shreyahello shreyahello shreyahello shreyahello shreyahello shreyahello shreyahello shreyahello shreyahello shreyahello shreyahello shreyahello shreyahello shreyahello shreyahello shreyahello shreyahello shreyahello shreyahello shreyahello shreyahello shreyahello shreyahello shreyahello shreyahello shreyahello shreyahello shreyahello shreyahello shreyahello shreyahello shreya\n",
            "True\n",
            "False\n",
            "False\n",
            "True\n",
            "True\n",
            "False\n",
            "True True\n",
            "True\n"
          ]
        }
      ],
      "source": [
        "print(\"hello shreya\")\n",
        "print (35+67)\n",
        "print (45-8)\n",
        "print(89%5)\n",
        "print (\"my age id 20\")\n",
        "print(\"shreya\" \"gajare\")\n",
        "print(4*+5-5)\n",
        "print((4*5)-5)\n",
        "print(\"shreya gajare\" *7)\n",
        "a=7\n",
        "b=48\n",
        "print(a+b)\n",
        "print(a*b)\n",
        "print(a*8)\n",
        "print(\"hello shreya\",b)\n",
        "print(\"hello shreya\"*b)\n",
        "print(a<b)\n",
        "print(a>b)\n",
        "print(a>=b)\n",
        "print(a<=b)\n",
        "print(a!=b)\n",
        "print(a==b)\n",
        "print(3<5,5<9)\n",
        "print(\"shreya\"!=\"om\")\n"
      ]
    }
  ]
}