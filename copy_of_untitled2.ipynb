{
  "nbformat": 4,
  "nbformat_minor": 0,
  "metadata": {
    "colab": {
      "provenance": [],
      "authorship_tag": "ABX9TyP7dPxzW+joVNI/HdHW8h5I",
      "include_colab_link": true
    },
    "kernelspec": {
      "name": "python3",
      "display_name": "Python 3"
    },
    "language_info": {
      "name": "python"
    }
  },
  "cells": [
    {
      "cell_type": "markdown",
      "metadata": {
        "id": "view-in-github",
        "colab_type": "text"
      },
      "source": [
        "<a href=\"https://colab.research.google.com/github/Shreyagajare23/Fundamental/blob/main/copy_of_untitled2.ipynb\" target=\"_parent\"><img src=\"https://colab.research.google.com/assets/colab-badge.svg\" alt=\"Open In Colab\"/></a>"
      ]
    },
    {
      "cell_type": "code",
      "execution_count": 13,
      "metadata": {
        "id": "CXMSIqTMuYsa",
        "colab": {
          "base_uri": "https://localhost:8080/"
        },
        "outputId": "31e57824-db3d-4269-c8d0-f7f95d1812ad"
      },
      "outputs": [
        {
          "output_type": "stream",
          "name": "stdout",
          "text": [
            "hello shreya\n",
            "102\n",
            "37\n",
            "4\n",
            "my age id 20\n",
            "shreyagajare\n",
            "15\n",
            "15\n",
            "shreya gajareshreya gajareshreya gajareshreya gajareshreya gajareshreya gajareshreya gajare\n",
            "<class 'int'>\n",
            "55\n",
            "336\n",
            "56\n",
            "hello shreya 48\n",
            "hello shreyahello shreyahello shreyahello shreyahello shreyahello shreyahello shreyahello shreyahello shreyahello shreyahello shreyahello shreyahello shreyahello shreyahello shreyahello shreyahello shreyahello shreyahello shreyahello shreyahello shreyahello shreyahello shreyahello shreyahello shreyahello shreyahello shreyahello shreyahello shreyahello shreyahello shreyahello shreyahello shreyahello shreyahello shreyahello shreyahello shreyahello shreyahello shreyahello shreyahello shreyahello shreyahello shreyahello shreyahello shreyahello shreyahello shreyahello shreya\n",
            "True\n",
            "False\n",
            "False\n",
            "True\n",
            "True\n",
            "False\n",
            "True True\n",
            "True\n",
            "enter your name: shreya\n",
            "heloo shreya\n",
            "20 5.0 38\n",
            "30 35.8 107.53999999999999\n"
          ]
        }
      ],
      "source": [
        "#basic python code\n",
        "print(\"hello shreya\")\n",
        "print (35+67)\n",
        "print (45-8)\n",
        "print(89%5)\n",
        "print (\"my age id 20\")\n",
        "print(\"shreya\" \"gajare\")\n",
        "print(4*+5-5)\n",
        "print((4*5)-5)\n",
        "print(\"shreya gajare\" *7)\n",
        "a=7\n",
        "b=48\n",
        "print(type(a))\n",
        "print(a+b)\n",
        "print(a*b)\n",
        "print(a*8)\n",
        "print(\"hello shreya\",b)\n",
        "print(\"hello shreya\"*b)\n",
        "print(a<b)\n",
        "print(a>b)\n",
        "print(a>=b)\n",
        "print(a<=b)\n",
        "print(a!=b)\n",
        "print(a==b)\n",
        "print(3<5,5<9)\n",
        "print(\"shreya\"!=\"om\")\n",
        "name =input(\"enter your name: \")\n",
        "print(\"heloo\",name)\n",
        "age =20\n",
        "height=5.0\n",
        "weight =38\n",
        "print(age, height,weight)\n",
        "a1 =30\n",
        "b2 =35.8\n",
        "c3 = 56.76 +50.78\n",
        "print ( a1, b2 ,c3 )"
      ]
    }
  ]
}